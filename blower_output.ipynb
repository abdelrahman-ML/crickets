{
  "nbformat": 4,
  "nbformat_minor": 0,
  "metadata": {
    "colab": {
      "name": "blower output",
      "provenance": []
    },
    "kernelspec": {
      "name": "python3",
      "display_name": "Python 3"
    }
  },
  "cells": [
    {
      "cell_type": "code",
      "metadata": {
        "id": "BV9YkQ7ajuzc",
        "colab_type": "code",
        "colab": {}
      },
      "source": [
        "import pandas as pd\n",
        "import numpy as np"
      ],
      "execution_count": null,
      "outputs": []
    },
    {
      "cell_type": "code",
      "metadata": {
        "id": "iJzIOXbuquLo",
        "colab_type": "code",
        "colab": {
          "base_uri": "https://localhost:8080/",
          "height": 206
        },
        "outputId": "db3da6a1-def1-4220-bcb4-2d90848c838b"
      },
      "source": [
        "df_Batting = pd.read_csv(\"b.csv\") \n",
        "# Preview the first 5 lines of the loaded data \n",
        "df_Batting.head()"
      ],
      "execution_count": null,
      "outputs": [
        {
          "output_type": "execute_result",
          "data": {
            "text/html": [
              "<div>\n",
              "<style scoped>\n",
              "    .dataframe tbody tr th:only-of-type {\n",
              "        vertical-align: middle;\n",
              "    }\n",
              "\n",
              "    .dataframe tbody tr th {\n",
              "        vertical-align: top;\n",
              "    }\n",
              "\n",
              "    .dataframe thead th {\n",
              "        text-align: right;\n",
              "    }\n",
              "</style>\n",
              "<table border=\"1\" class=\"dataframe\">\n",
              "  <thead>\n",
              "    <tr style=\"text-align: right;\">\n",
              "      <th></th>\n",
              "      <th>Unnamed: 0</th>\n",
              "      <th>Mat</th>\n",
              "      <th>Inns</th>\n",
              "      <th>Balls</th>\n",
              "      <th>Runs</th>\n",
              "      <th>Wkts</th>\n",
              "      <th>BBI</th>\n",
              "      <th>BBM</th>\n",
              "      <th>Ave</th>\n",
              "      <th>Econ</th>\n",
              "      <th>SR</th>\n",
              "      <th>4w</th>\n",
              "      <th>5w</th>\n",
              "      <th>10</th>\n",
              "    </tr>\n",
              "  </thead>\n",
              "  <tbody>\n",
              "    <tr>\n",
              "      <th>0</th>\n",
              "      <td>ODIs</td>\n",
              "      <td>44</td>\n",
              "      <td>6</td>\n",
              "      <td>132</td>\n",
              "      <td>130</td>\n",
              "      <td>6</td>\n",
              "      <td>3/26</td>\n",
              "      <td>3/26</td>\n",
              "      <td>21.66</td>\n",
              "      <td>5.90</td>\n",
              "      <td>22.0</td>\n",
              "      <td>0</td>\n",
              "      <td>0</td>\n",
              "      <td>0</td>\n",
              "    </tr>\n",
              "    <tr>\n",
              "      <th>1</th>\n",
              "      <td>ODIs</td>\n",
              "      <td>84</td>\n",
              "      <td>83</td>\n",
              "      <td>3960</td>\n",
              "      <td>3581</td>\n",
              "      <td>93</td>\n",
              "      <td>6/52</td>\n",
              "      <td>6/52</td>\n",
              "      <td>38.50</td>\n",
              "      <td>5.42</td>\n",
              "      <td>42.5</td>\n",
              "      <td>2</td>\n",
              "      <td>1</td>\n",
              "      <td>0</td>\n",
              "    </tr>\n",
              "    <tr>\n",
              "      <th>2</th>\n",
              "      <td>ODIs</td>\n",
              "      <td>35</td>\n",
              "      <td>13</td>\n",
              "      <td>326</td>\n",
              "      <td>355</td>\n",
              "      <td>10</td>\n",
              "      <td>2/22</td>\n",
              "      <td>2/22</td>\n",
              "      <td>35.50</td>\n",
              "      <td>6.53</td>\n",
              "      <td>32.6</td>\n",
              "      <td>0</td>\n",
              "      <td>0</td>\n",
              "      <td>0</td>\n",
              "    </tr>\n",
              "    <tr>\n",
              "      <th>3</th>\n",
              "      <td>ODIs</td>\n",
              "      <td>11</td>\n",
              "      <td>11</td>\n",
              "      <td>591</td>\n",
              "      <td>517</td>\n",
              "      <td>16</td>\n",
              "      <td>5/44</td>\n",
              "      <td>5/44</td>\n",
              "      <td>32.31</td>\n",
              "      <td>5.24</td>\n",
              "      <td>36.9</td>\n",
              "      <td>0</td>\n",
              "      <td>1</td>\n",
              "      <td>0</td>\n",
              "    </tr>\n",
              "    <tr>\n",
              "      <th>4</th>\n",
              "      <td>ODIs</td>\n",
              "      <td>188</td>\n",
              "      <td>136</td>\n",
              "      <td>4132</td>\n",
              "      <td>3561</td>\n",
              "      <td>76</td>\n",
              "      <td>3/4</td>\n",
              "      <td>3/4</td>\n",
              "      <td>46.85</td>\n",
              "      <td>5.17</td>\n",
              "      <td>54.3</td>\n",
              "      <td>0</td>\n",
              "      <td>0</td>\n",
              "      <td>0</td>\n",
              "    </tr>\n",
              "  </tbody>\n",
              "</table>\n",
              "</div>"
            ],
            "text/plain": [
              "  Unnamed: 0  Mat Inns Balls  Runs Wkts   BBI   BBM    Ave  Econ    SR 4w 5w 10\n",
              "0       ODIs   44    6   132   130    6  3/26  3/26  21.66  5.90  22.0  0  0  0\n",
              "1       ODIs   84   83  3960  3581   93  6/52  6/52  38.50  5.42  42.5  2  1  0\n",
              "2       ODIs   35   13   326   355   10  2/22  2/22  35.50  6.53  32.6  0  0  0\n",
              "3       ODIs   11   11   591   517   16  5/44  5/44  32.31  5.24  36.9  0  1  0\n",
              "4       ODIs  188  136  4132  3561   76   3/4   3/4  46.85  5.17  54.3  0  0  0"
            ]
          },
          "metadata": {
            "tags": []
          },
          "execution_count": 2
        }
      ]
    },
    {
      "cell_type": "code",
      "metadata": {
        "id": "05X4M5Qjqzsa",
        "colab_type": "code",
        "colab": {
          "base_uri": "https://localhost:8080/",
          "height": 403
        },
        "outputId": "4ccc9051-561f-4a5b-dc0f-5f834c007cc8"
      },
      "source": [
        "df_Batting.info()"
      ],
      "execution_count": null,
      "outputs": [
        {
          "output_type": "stream",
          "text": [
            "<class 'pandas.core.frame.DataFrame'>\n",
            "RangeIndex: 656 entries, 0 to 655\n",
            "Data columns (total 14 columns):\n",
            " #   Column      Non-Null Count  Dtype \n",
            "---  ------      --------------  ----- \n",
            " 0   Unnamed: 0  656 non-null    object\n",
            " 1   Mat         656 non-null    int64 \n",
            " 2   Inns        656 non-null    object\n",
            " 3   Balls       656 non-null    object\n",
            " 4   Runs        656 non-null    object\n",
            " 5   Wkts        656 non-null    object\n",
            " 6   BBI         656 non-null    object\n",
            " 7   BBM         656 non-null    object\n",
            " 8   Ave         656 non-null    object\n",
            " 9   Econ        656 non-null    object\n",
            " 10  SR          656 non-null    object\n",
            " 11  4w          656 non-null    object\n",
            " 12  5w          656 non-null    object\n",
            " 13  10          656 non-null    object\n",
            "dtypes: int64(1), object(13)\n",
            "memory usage: 71.9+ KB\n"
          ],
          "name": "stdout"
        }
      ]
    },
    {
      "cell_type": "code",
      "metadata": {
        "id": "DttFnnmPq4ec",
        "colab_type": "code",
        "colab": {}
      },
      "source": [
        "df_Batting['Wkts'].unique()\n"
      ],
      "execution_count": null,
      "outputs": []
    },
    {
      "cell_type": "code",
      "metadata": {
        "id": "LM5FEekXl5o1",
        "colab_type": "code",
        "colab": {}
      },
      "source": [
        "df_Batting.replace(to_replace='-',value=0,inplace=True)"
      ],
      "execution_count": null,
      "outputs": []
    },
    {
      "cell_type": "code",
      "metadata": {
        "id": "X4ePccUhrpGQ",
        "colab_type": "code",
        "colab": {}
      },
      "source": [
        "df_Batting['Wkts']=pd.DataFrame(df_Batting['Wkts'].astype(str).astype(int))"
      ],
      "execution_count": null,
      "outputs": []
    },
    {
      "cell_type": "code",
      "metadata": {
        "id": "Zp5nKSSdsC_2",
        "colab_type": "code",
        "colab": {
          "base_uri": "https://localhost:8080/",
          "height": 403
        },
        "outputId": "1f1b2b82-0b46-42ca-ce93-127b22bfe373"
      },
      "source": [
        "df_Batting.info()"
      ],
      "execution_count": null,
      "outputs": [
        {
          "output_type": "stream",
          "text": [
            "<class 'pandas.core.frame.DataFrame'>\n",
            "RangeIndex: 656 entries, 0 to 655\n",
            "Data columns (total 14 columns):\n",
            " #   Column      Non-Null Count  Dtype \n",
            "---  ------      --------------  ----- \n",
            " 0   Unnamed: 0  656 non-null    object\n",
            " 1   Mat         656 non-null    int64 \n",
            " 2   Inns        656 non-null    object\n",
            " 3   Balls       656 non-null    object\n",
            " 4   Runs        656 non-null    object\n",
            " 5   Wkts        656 non-null    int64 \n",
            " 6   BBI         656 non-null    object\n",
            " 7   BBM         656 non-null    object\n",
            " 8   Ave         656 non-null    object\n",
            " 9   Econ        656 non-null    object\n",
            " 10  SR          656 non-null    object\n",
            " 11  4w          656 non-null    object\n",
            " 12  5w          656 non-null    object\n",
            " 13  10          656 non-null    object\n",
            "dtypes: int64(2), object(12)\n",
            "memory usage: 71.9+ KB\n"
          ],
          "name": "stdout"
        }
      ]
    },
    {
      "cell_type": "code",
      "metadata": {
        "id": "VL6_p3kksJiA",
        "colab_type": "code",
        "colab": {}
      },
      "source": [
        "df_Batting['output1']=np.where(df_Batting['Wkts']<=1, 1, 0) \n",
        "df_Batting['output2']=np.where((df_Batting['Wkts']>=2) & (df_Batting['Wkts']<=3), 2, 0) \n",
        "df_Batting['output3']=np.where(df_Batting['Wkts']>=4 , 5, 0) "
      ],
      "execution_count": null,
      "outputs": []
    },
    {
      "cell_type": "code",
      "metadata": {
        "id": "mIyEUB44wNSj",
        "colab_type": "code",
        "colab": {}
      },
      "source": [
        "df_Batting['output']=df_Batting.output1 | df_Batting.output2 | df_Batting.output3 "
      ],
      "execution_count": null,
      "outputs": []
    },
    {
      "cell_type": "code",
      "metadata": {
        "id": "-t_wPwVDwZwH",
        "colab_type": "code",
        "colab": {
          "base_uri": "https://localhost:8080/",
          "height": 129
        },
        "outputId": "de889f93-a9a6-49c7-c4b8-dd20abc1ba96"
      },
      "source": [
        "# Import Drive API and authenticate.\n",
        "from google.colab import drive\n",
        "\n",
        "# Mount your Drive to the Colab VM.\n",
        "drive.mount('/gdrive')\n",
        "#df\n",
        "df=df_Batting\n",
        "# Write the DataFrame to CSV file.\n",
        "with open('/gdrive/My Drive/outputB.csv', 'w') as f:\n",
        "  df.to_csv(f)"
      ],
      "execution_count": null,
      "outputs": [
        {
          "output_type": "stream",
          "text": [
            "Go to this URL in a browser: https://accounts.google.com/o/oauth2/auth?client_id=947318989803-6bn6qk8qdgf4n4g3pfee6491hc0brc4i.apps.googleusercontent.com&redirect_uri=urn%3aietf%3awg%3aoauth%3a2.0%3aoob&response_type=code&scope=email%20https%3a%2f%2fwww.googleapis.com%2fauth%2fdocs.test%20https%3a%2f%2fwww.googleapis.com%2fauth%2fdrive%20https%3a%2f%2fwww.googleapis.com%2fauth%2fdrive.photos.readonly%20https%3a%2f%2fwww.googleapis.com%2fauth%2fpeopleapi.readonly\n",
            "\n",
            "Enter your authorization code:\n",
            "··········\n",
            "Mounted at /gdrive\n"
          ],
          "name": "stdout"
        }
      ]
    }
  ]
}